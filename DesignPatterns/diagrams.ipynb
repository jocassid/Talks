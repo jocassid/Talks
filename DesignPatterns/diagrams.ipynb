{
 "cells": [
  {
   "cell_type": "code",
   "execution_count": 1,
   "id": "c8accf25-873c-4ac3-93ae-a3f4c78fdbfd",
   "metadata": {
    "tags": []
   },
   "outputs": [],
   "source": [
    "# pip install diagrams\n",
    "from diagrams import Cluster, Diagram\n",
    "from diagrams.c4 import \\\n",
    "    Container, \\\n",
    "    Database, \\\n",
    "    Person, \\\n",
    "    Relationship, \\\n",
    "    System, \\\n",
    "    SystemBoundary\n",
    "\n",
    "\n",
    "SHOW_DIAGRAMS = False\n",
    "\n",
    "\n",
    "def basic_block(label, description=''):\n",
    "    return Container(\n",
    "        label,\n",
    "        description=description,\n",
    "        type='',\n",
    "        height='0.6',\n",
    "    )\n",
    "\n",
    "\n",
    "class PresentationDiagram(Diagram):\n",
    "    def __init__(self, filename, **kwargs):\n",
    "        graph_attr = {\n",
    "            'pad': '0.25',\n",
    "        }\n",
    "        graph_attr.update(kwargs.get('graph_attr', {}))\n",
    "        super_kwargs = {\n",
    "            'filename': filename,\n",
    "            'outformat': 'svg',\n",
    "            'show': SHOW_DIAGRAMS,\n",
    "            'graph_attr': graph_attr,\n",
    "        }\n",
    "        super_kwargs.update(kwargs)\n",
    "        super().__init__(**super_kwargs)         "
   ]
  },
  {
   "cell_type": "code",
   "execution_count": 2,
   "id": "04202750-d8e5-466e-a0ce-b3838c6307d0",
   "metadata": {
    "tags": []
   },
   "outputs": [
    {
     "data": {
      "image/png": "[encoded data removed]",
      "text/plain": [
       "<__main__.PresentationDiagram at 0x7f240c5ea6a0>"
      ]
     },
     "execution_count": 2,
     "metadata": {},
     "output_type": "execute_result"
    }
   ],
   "source": [
    "polling_diag = PresentationDiagram('polling', direction=\"TB\")\n",
    "with polling_diag:\n",
    "    gps = basic_block('Gps')\n",
    "    component1 = basic_block('Map')\n",
    "    component2 = basic_block('Distance')\n",
    "        \n",
    "    component1 >> gps >> component1\n",
    "    component2 >> gps >> component2\n",
    "polling_diag"
   ]
  },
  {
   "cell_type": "code",
   "execution_count": 4,
   "id": "b809e3cd-100e-42b5-9ad2-0c27fac519c7",
   "metadata": {
    "tags": []
   },
   "outputs": [
    {
     "data": {
      "image/png": "[encoded data removed]",
      "text/plain": [
       "<__main__.PresentationDiagram at 0x7f240c4414f0>"
      ]
     },
     "execution_count": 4,
     "metadata": {},
     "output_type": "execute_result"
    }
   ],
   "source": [
    "push_diagram = PresentationDiagram('push', direction='TB')\n",
    "with push_diagram:\n",
    "    gps = basic_block('Gps')\n",
    "    component1 = basic_block('Map')\n",
    "    component2 = basic_block('Distance')\n",
    "        \n",
    "    gps >> component1\n",
    "    gps >> component2\n",
    "push_diagram"
   ]
  },
  {
   "cell_type": "code",
   "execution_count": null,
   "id": "d336b085-1aac-4891-9c13-b0c448dd3d5f",
   "metadata": {},
   "outputs": [],
   "source": []
  }
 ],
 "metadata": {
  "kernelspec": {
   "display_name": "Python 3 (ipykernel)",
   "language": "python",
   "name": "python3"
  },
  "language_info": {
   "codemirror_mode": {
    "name": "ipython",
    "version": 3
   },
   "file_extension": ".py",
   "mimetype": "text/x-python",
   "name": "python",
   "nbconvert_exporter": "python",
   "pygments_lexer": "ipython3",
   "version": "3.9.5"
  }
 },
 "nbformat": 4,
 "nbformat_minor": 5
}
