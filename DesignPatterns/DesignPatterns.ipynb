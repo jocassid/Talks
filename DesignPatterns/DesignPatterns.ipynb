{
 "cells": [
  {
   "cell_type": "markdown",
   "id": "ef7c7297-099b-4bb7-a2f6-beb0e9a897b6",
   "metadata": {
    "slideshow": {
     "slide_type": "slide"
    },
    "tags": []
   },
   "source": [
    "# Design Patterns 1.0.1\n",
    "(**Caution:** May contain Java)"
   ]
  },
  {
   "cell_type": "markdown",
   "id": "2bd1cb62-4556-4435-8679-96fb19b831e9",
   "metadata": {
    "slideshow": {
     "slide_type": "slide"
    },
    "tags": []
   },
   "source": [
    "## Let's start with an example (Observer Pattern a.k.a publisher subscriber)\n",
    "\n",
    "**Problem:** We have a `Gps` class that periodically reads data from a sensor and updates a map and a display of distance traveled."
   ]
  },
  {
   "cell_type": "code",
   "execution_count": 31,
   "id": "040bbde6-760a-45dd-bd7a-83aa5f5a06ca",
   "metadata": {
    "slideshow": {
     "slide_type": "slide"
    },
    "tags": []
   },
   "outputs": [],
   "source": [
    "# Define Map and DistanceTraveled classes\n",
    "# (this isn't the interesting bit)\n",
    "class Map:\n",
    "    \"\"\"A class which displays the map\"\"\"\n",
    "    def update(lat, long, alt):\n",
    "        pass\n",
    "\n",
    "class Distance:\n",
    "    \"\"\"A class to track total distance\"\"\"\n",
    "    def update(lat, long, alt):\n",
    "        pass"
   ]
  },
  {
   "cell_type": "code",
   "execution_count": 32,
   "id": "0a777642-4bf2-4fce-92d0-10148c6d6088",
   "metadata": {
    "slideshow": {
     "slide_type": "slide"
    },
    "tags": []
   },
   "outputs": [],
   "source": [
    "class Gps:\n",
    "    def __init__(self):\n",
    "        self.map = Map()\n",
    "        self.distance = Distance()\n",
    "    def main_loop():\n",
    "        while true:\n",
    "            lat, long, alt = self.sensor.read()\n",
    "            time.sleep(1)\n",
    "            \n",
    "            self.map.update(lat, long, alt)\n",
    "            self.distance.update(lat, long, alt)"
   ]
  },
  {
   "cell_type": "raw",
   "id": "8e9b8859-6dc7-461f-bd20-bb811cf02741",
   "metadata": {
    "slideshow": {
     "slide_type": "notes"
    },
    "tags": []
   },
   "source": [
    "Here we create instances of the Map and DistanceTraveled classes in __init__.  In main_loop we read the latitude, longitude, and altitude from a sensor once a second and then update the map and distance traveled."
   ]
  },
  {
   "cell_type": "code",
   "execution_count": 33,
   "id": "c8bc1100-5087-49be-a7ad-f69d5c45cb5c",
   "metadata": {
    "slideshow": {
     "slide_type": "slide"
    },
    "tags": []
   },
   "outputs": [],
   "source": [
    "# Now the client wants more components\n",
    "class Waypoints:\n",
    "    def update(lat, long, alt):\n",
    "        pass\n",
    "    \n",
    "class Speed:\n",
    "    def update(lat, long, alt):\n",
    "        pass"
   ]
  },
  {
   "cell_type": "code",
   "execution_count": 34,
   "id": "dcafa6e9-1a19-434e-a6ea-1fc7950c46c4",
   "metadata": {
    "slideshow": {
     "slide_type": "slide"
    },
    "tags": []
   },
   "outputs": [],
   "source": [
    "class Gps:\n",
    "    def __init__(self):\n",
    "        self.map = Map()\n",
    "        self.distance = Distance()\n",
    "    def main_loop():\n",
    "        while true:\n",
    "            lat, long, alt = self.sensor.read()\n",
    "            time.sleep(1)\n",
    "            \n",
    "            self.map.update(lat, long, alt)\n",
    "            self.distance.update(lat, long, alt)"
   ]
  },
  {
   "cell_type": "raw",
   "id": "ce10b279-8b12-49cd-9174-f2036e737bbd",
   "metadata": {
    "slideshow": {
     "slide_type": "notes"
    },
    "tags": []
   },
   "source": [
    "We could add the new components to __init__ and main_loop, but that gets tedious as the number of components increases.  Since all of these components have a update(lat, long, alt) method we can store a list of those components and iterate through that list each time coordinate data is read from the sensor."
   ]
  },
  {
   "cell_type": "code",
   "execution_count": 35,
   "id": "6825973a-6a4b-49c8-8c83-2c37b5d50622",
   "metadata": {
    "slideshow": {
     "slide_type": "slide"
    },
    "tags": []
   },
   "outputs": [],
   "source": [
    "class Gps:\n",
    "    \"\"\"In the parlance of the observer pattern this is \n",
    "    the observable \"\"\"\n",
    "    def __init__(self):\n",
    "        self.observers = []\n",
    "    def main_loop():\n",
    "        while true:\n",
    "            lat, long, alt = self.sensor.read()\n",
    "            time.sleep(1)\n",
    "            for observer in self.observers:\n",
    "                observer.update(lat, long, alt)\n",
    "                \n",
    "def start_gps(waypoints_enabled=False):\n",
    "    gps = Gps()\n",
    "    for observer in [Waypoints(), Distance(), Speed()]:\n",
    "        gps.observers.append(observer)\n",
    "    if waypoints_enabled:\n",
    "        gps.observers.append(Waypoints())"
   ]
  },
  {
   "cell_type": "raw",
   "id": "e01f152e-02dc-4cbc-8df0-afc0a0d936cb",
   "metadata": {
    "slideshow": {
     "slide_type": "notes"
    },
    "tags": []
   },
   "source": [
    "Written this way, we don't need to touch the GpsModule class when we want to add an observer component.  If there's a observer that is disabled , we don't add it to the GpsModule's list of observers."
   ]
  },
  {
   "cell_type": "markdown",
   "id": "f7c67615-a0c0-454c-b723-c7cd6b62cea8",
   "metadata": {
    "slideshow": {
     "slide_type": "slide"
    },
    "tags": []
   },
   "source": [
    "## Loose Coupling\n",
    "\n",
    "The principal that objects should be able to interact with minimal knowledge of each other"
   ]
  },
  {
   "cell_type": "raw",
   "id": "9cd42b2d-3be9-48b9-b246-ec8efe214b89",
   "metadata": {},
   "source": [
    "The observer pattern is a way to achieve loose coupling.  In our example, all the Gps class needs to know is that the observer has an update method.  The observer really don't need to know anything about the Gps class.  The more objects need to know about each other, the more likely it is that changes will break something.\n",
    "\n",
    "So now we've seen an example ..."
   ]
  },
  {
   "cell_type": "markdown",
   "id": "402f3954-4d97-4a71-bc03-4cd6eda526c5",
   "metadata": {
    "slideshow": {
     "slide_type": "slide"
    },
    "tags": []
   },
   "source": [
    "## What are patterns anyway?\n",
    "\n",
    "1. Provide receipes for solving common problems\n",
    "1. Define a vocabulary for discussing software components"
   ]
  },
  {
   "cell_type": "markdown",
   "id": "a0f473f8-1653-4594-80b9-f93060717384",
   "metadata": {
    "slideshow": {
     "slide_type": "slide"
    },
    "tags": []
   },
   "source": [
    "## Categories of Patterns\n",
    "\n",
    "1. **Creational:** Creating objects\n",
    "1. **Structural:** \"How to assemble objects and classes into larger structure\" [1]\n",
    "1. **Behaviorial:** How objects behave."
   ]
  },
  {
   "cell_type": "markdown",
   "id": "c995bde1-15b0-43b6-9aae-9cb1c2382715",
   "metadata": {
    "slideshow": {
     "slide_type": "slide"
    },
    "tags": []
   },
   "source": [
    "## Anyway, Java"
   ]
  },
  {
   "cell_type": "markdown",
   "id": "fd5195a4-f2e6-43a8-ae47-bbc14e6d2800",
   "metadata": {
    "slideshow": {
     "slide_type": "slide"
    },
    "tags": []
   },
   "source": [
    "### Class Definitions\n",
    "\n",
    "```java\n",
    "class Duck{\n",
    "    String name;\n",
    "    \n",
    "    Duck(String name){ // __init__ by any other name\n",
    "        this.name = name;  // equivalent to self.\n",
    "    }\n",
    "    \n",
    "    void intro(){\n",
    "        System.out.println(\"Hello, my name is \" + this.name);\n",
    "    }\n",
    "```"
   ]
  },
  {
   "cell_type": "raw",
   "id": "822cb44f-bbd4-43f7-99cc-165a3c756add",
   "metadata": {
    "slideshow": {
     "slide_type": "notes"
    },
    "tags": []
   },
   "source": [
    "This is what a class declaration looks like in Java.  Instead of __init__ we have a constructor that has the same name as the class.  Methods need to specify the name and type of all the arguments and return type of the method."
   ]
  },
  {
   "cell_type": "markdown",
   "id": "74aa696a-7f10-4180-a14d-54da7fb220f1",
   "metadata": {
    "slideshow": {
     "slide_type": "slide"
    },
    "tags": []
   },
   "source": [
    "### Interfaces\n",
    "\n",
    "```java\n",
    "interface Flying{\n",
    "  void fly(int altitude_m);\n",
    "}\n",
    "\n",
    "interface Swimming{\n",
    "    void swim();\n",
    "}\n",
    "```"
   ]
  },
  {
   "cell_type": "raw",
   "id": "b692c575-1275-48cc-a34f-0244ca70f36e",
   "metadata": {
    "slideshow": {
     "slide_type": "notes"
    },
    "tags": []
   },
   "source": [
    "In Java, interfaces serve as a contract.  Classes which implement an interface need to provide implementations of the methods specified in the interface.  Note how arguments and return types are specified, but there is no code defining how the method operates."
   ]
  },
  {
   "cell_type": "markdown",
   "id": "b3ce13e3-f2d4-4752-89af-a99943eb2422",
   "metadata": {},
   "source": [
    "### Abstract classes\n",
    "\n",
    "```java\n",
    "abstract class AbstractDuck{\n",
    "    void quack(){\n",
    "        System.out.println(\"Quack\");\n",
    "    }\n",
    "}\n",
    "```"
   ]
  },
  {
   "cell_type": "raw",
   "id": "515836f1-e821-453e-ad0c-924a606cebeb",
   "metadata": {
    "slideshow": {
     "slide_type": "notes"
    },
    "tags": []
   },
   "source": [
    "Abstract classes are another element of Java.  Abstract classes have proper method declarations, but you cannot create instances of abstract classes.  Instead you create sub-classes of the abstract class which you can create instances of."
   ]
  },
  {
   "cell_type": "code",
   "execution_count": null,
   "id": "1b645d43-866f-4fa3-bbfd-0075cd850338",
   "metadata": {},
   "outputs": [],
   "source": []
  },
  {
   "cell_type": "code",
   "execution_count": null,
   "id": "6ed73c60-2691-4d76-8c21-108c96b517d7",
   "metadata": {},
   "outputs": [],
   "source": []
  },
  {
   "cell_type": "markdown",
   "id": "5d41e6ef-d820-4532-bcf9-4edc50f4fc58",
   "metadata": {
    "slideshow": {
     "slide_type": "slide"
    },
    "tags": []
   },
   "source": [
    "## Resources\n",
    "\n",
    "* https://pyvideo.org/pyohio-2012/python-design-patterns-1.html (first 17 minutes is repeated so start at the 17 minute mark)\n",
    "* https://python-patterns.guide/\n",
    "* https://refactoring.guru\n",
    "* https://diagrams.mingrammer.com/\n",
    "* https://docs.oracle.com/javase/tutorial/java/javaOO/classes.html\n"
   ]
  },
  {
   "cell_type": "markdown",
   "id": "f1d48d16-89c8-4f31-84c1-339bbbc62867",
   "metadata": {},
   "source": [
    "Footnotes:\n",
    "\n",
    "1. https://refactoring.guru/design-patterns/structural-patterns"
   ]
  },
  {
   "cell_type": "markdown",
   "id": "dff19d5f-c1d8-46c0-bd28-3d3cf158e8e8",
   "metadata": {},
   "source": [
    "## Notes from Brandon's presentation:\n",
    "\n",
    "https://www.youtube.com/watch?v=Er5K_nR5lDQ\n",
    "(start of video is repeated if you start 17 minutes in you can skip the repeated section)\n",
    "\n",
    "3 reasons that we don't talk about patterns much in Python: \n",
    " 1. patterns are baked into the Language and the standard library\n",
    " 1. provided by frameworks (i.e. Django & MVC)\n",
    " 1. we avoid large complex applications\n",
    " \n",
    "Book \"A Pattern Language\" Christopher Alexander (1977) on Architecture (buildings)\n",
    " \n",
    "Book: \"Design Patterns - Elements of Reusable Object-oriented Software\" Gamma, Helm, Johnson & Vlissides (The Gang of Four)\n",
    "\n",
    "not all patterns are Object-oriented patterns.  Using a_dict.get() instead of checking if key exists first.  Avoiding elses in code.\n",
    "\n",
    "OO Design patterns maxim: \"Program to an interface not an implementation\".  With duck-typing in Python, this is largely automatic.\n",
    "\n",
    "Pattern Types:\n",
    "1. Creational\n",
    "1. Structural\n",
    "1. Behavioral\n",
    "\n",
    "### Creational Patterns\n",
    "\n",
    "No separate syntax for creating instances of a class (no new keyword)\n",
    "\n",
    "having a new keywords means you can't do things like:\n",
    "1. return another class\n",
    "1. Always return the same instance.\n",
    "\n",
    "\"So most 'creational patterns' are contortions to avoid making brittle new calls in your C++/Java code\"\n",
    "\n",
    "Prototype pattern - Creating new objects based on existing objects.  The standard library's copy module takes care of this for us.\n",
    "\n",
    "Builder pattern - you feed the builder info on what you want built and it takes care of the gory details of linking the various instances together.  Brandon has an example of building an XML document. At about 40 minutes in.\n",
    "\n",
    "Left off at 40 min in\n",
    "\n",
    "Designed away by language: Abstract Factory, factory method\n",
    "Trivial: Singleton, Prototype\n",
    "Useful: Builder\n",
    "\n",
    "### Structural Patterns\n",
    "\n",
    "**Adapter:** Wrap a class so it behaves like another.  i.e. wrap a socket that it has a `read` and `write` method like a file instead of the socket's normal `send` and `recv` methods.  (43 min)\n",
    "\n",
    "**Bridge:** Use subclass for 1 purpose only.  You don't want a bunch of classes like:\n",
    "* WindowsButton\n",
    "* WindowsBorderedButton\n",
    "* LinuxButton\n",
    "* LinuxBorderedButton\n",
    "\n",
    "Mixins may allow your better way to achieve this\n",
    "\n",
    "**Composite:** A class whose instances are designed to lock together in a tree.  Like `Node` elements in a Document Object Model.  Very common in the Python World\n",
    "\n",
    "**Fascade:** An object that hides a complex tree or network of objects.  i.e. etrees root.find() and root.iter() that handle the details of searching and iterating through the tree structure.\n",
    "\n",
    "**Flyweight:** small immutable object that may be used in a variety of contexts.\n",
    "(I think named tuples would be a good way to accomplish this).  python does this for small less than 100 integers.\n",
    "\n",
    "**Proxy:** proxy object wraps another object called the subject and accepts method calls and attribute lookups on behalf of the subject.\n",
    "\n",
    "proxying can be done dynamically via `__getattr()__` without having to write a bunch of proxying methods.\n",
    "\n",
    "several examples of proxy within standard library (weakref.proxy, xmlrpc), used in zope library.\n",
    "\n",
    "**Decorator:** not to be confused with Python @decorators.  Simlar to proxy (same methods and attributes), not not completely transparent (alters data coming in and out of subject, masks the behavior of underlying subject) tend to be in the 'glue' code of an application rather than in a library.\n",
    "\n",
    "### Behavioral Patterns\n",
    "\n",
    "**Chain of Responsibility:** pass a request along a chain of objects until one decides to handle it.  (used in GUIs and DOMs to handle mouse clicks)\n",
    "\n",
    "**Command:** Consider a system to do do 2D drawings.  Instead of just calling a `draw_line` function, instantiate an instance of a \n",
    "\n",
    "Before\n",
    "```python\n",
    "draw_line(0, 0, 5, 5)\n",
    "```\n",
    "\n",
    "After\n",
    "```python\n",
    "line1 = DrawLine(x1, y1, x2, y2):\n",
    "line1.do()\n",
    "command_history.append(line1)\n",
    "\n",
    "last_command = command_history.pop(-1)\n",
    "last_command.undo()\n",
    "\n",
    "```\n",
    "\n",
    "**Interpreter:** build a component that can parse a language and execute the command found within it.\n",
    "\n",
    "**Iterator:**  Concept baked into Python.  In Python this is anything that implements a `__next__` \n",
    "\n",
    "```python\n",
    ">>> a = list(range(5))\n",
    ">>> [s for s in dir(a) if 'iter' in s]\n",
    "['__iter__']\n",
    ">>> iterator = iter(a)\n",
    ">>> [s for s in dir(itr) if 'next' in s]\n",
    "['__next__']\n",
    ">>> next(iterator)\n",
    "0\n",
    ">>> next(iterator)\n",
    "1\n",
    ">>> \n",
    "```\n",
    "\n",
    "'__iter__' as a generator\n",
    "```python\n",
    "class MyIterable:\n",
    "    def __iter__(self):\n",
    "        for i in self.contents:\n",
    "            yield i\n",
    "```\n",
    "\n",
    "**Mediator:** mentioned at 1:03 in Brandon's talk.  Need to see some code to understand\n",
    "\n",
    "**Memento:** record of an objects inner state.  Allows calling code to restore an object to it's earlier state.\n",
    "\n",
    "\"We may not see many patterns in our own code, but the frameworks and libraries we use utilize them\"\n",
    "\n",
    "\n",
    "\n",
    "left off at 59 minutes at the Command pattern\n",
    "\n",
    "\n"
   ]
  },
  {
   "cell_type": "code",
   "execution_count": null,
   "id": "a70ca575-7bdb-4c53-8203-7ec194d859ae",
   "metadata": {
    "tags": []
   },
   "outputs": [],
   "source": [
    "# Brandon's take on Python singleton\n",
    "# Don't use a module-level variable (i.e. my_module.foo) that doesn't leave \n",
    "# you any room if you need to do something in more than just a variable.\n",
    "class MyClass: pass\n",
    "\n",
    "_singleton = MyClass()\n",
    "def get_singleton():\n",
    "    return _singleton\n",
    "\n",
    "# \"Real\" singletons allow caller to specify a subclass the first time the \n",
    "# singleton is retrieved.  A gang of four singleton looks like this:\n",
    "\n",
    "_other_singleton = None\n",
    "def get_other_singleton(cls=MyClass):\n",
    "    global _other_singleton\n",
    "    if _other_singleton is None:\n",
    "        _other_singleton = cls()\n",
    "    return _other_singleton"
   ]
  },
  {
   "cell_type": "markdown",
   "id": "121eea33-181e-49ae-b5b7-0622c6eabfc6",
   "metadata": {},
   "source": [
    "# Notes from \"Head First Design Patterns"
   ]
  },
  {
   "cell_type": "markdown",
   "id": "5a28bba6-5de3-4ee6-8d17-03b84085bd08",
   "metadata": {},
   "source": [
    "## Design Principals\n",
    "\n",
    "*\"Identify the aspects of your application that vary and separated them from what stays the same\"*\n",
    "\n",
    "This is the essence of refactoring and the Don't Repeat Yourself (DRY) principal.  Identify things that stay the same and build components to encapsulate them.\n",
    "\n",
    "*\"Design to an interface, not an implementation\"*\n",
    "\n",
    "In the Python standard library there are a lot of objects that have a have a `read()` method.  If we have a function that will `read()` from an object we can use it with any object that has a `read()` method.\n"
   ]
  },
  {
   "cell_type": "code",
   "execution_count": null,
   "id": "fd17943b-c27a-487f-9cd8-4111867141c9",
   "metadata": {},
   "outputs": [],
   "source": []
  }
 ],
 "metadata": {
  "kernelspec": {
   "display_name": "Python 3 (ipykernel)",
   "language": "python",
   "name": "python3"
  },
  "language_info": {
   "codemirror_mode": {
    "name": "ipython",
    "version": 3
   },
   "file_extension": ".py",
   "mimetype": "text/x-python",
   "name": "python",
   "nbconvert_exporter": "python",
   "pygments_lexer": "ipython3",
   "version": "3.9.5"
  }
 },
 "nbformat": 4,
 "nbformat_minor": 5
}
