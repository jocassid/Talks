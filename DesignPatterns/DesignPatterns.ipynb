{
 "cells": [
  {
   "cell_type": "markdown",
   "id": "ef7c7297-099b-4bb7-a2f6-beb0e9a897b6",
   "metadata": {
    "slideshow": {
     "slide_type": "slide"
    },
    "tags": []
   },
   "source": [
    "# Design Patterns"
   ]
  },
  {
   "cell_type": "markdown",
   "id": "2bd1cb62-4556-4435-8679-96fb19b831e9",
   "metadata": {
    "slideshow": {
     "slide_type": "slide"
    },
    "tags": []
   },
   "source": [
    "## Let's start with an example\n",
    "\n",
    "**Problem:** We have multiple components that want to get updated information from a single source"
   ]
  },
  {
   "cell_type": "markdown",
   "id": "d72baef5-10dd-4de9-96ff-eac98e59ea5f",
   "metadata": {
    "slideshow": {
     "slide_type": "slide"
    },
    "tags": []
   },
   "source": [
    "![alt](polling.svg)"
   ]
  },
  {
   "cell_type": "raw",
   "id": "c228924e-1586-4d84-95b2-e52c98fdac32",
   "metadata": {
    "slideshow": {
     "slide_type": "notes"
    },
    "tags": []
   },
   "source": [
    "One approach is to have the subscribers periodically contact the publisher for updatess (this is known as polling the publisher).  If updates are frequent this is a reasonable approach.  If updates are infrequent, a lot of effort is waisted polling."
   ]
  },
  {
   "cell_type": "markdown",
   "id": "03463ca0-8099-45df-887d-f849cbca7df2",
   "metadata": {
    "slideshow": {
     "slide_type": "slide"
    },
    "tags": []
   },
   "source": [
    "![alt](push.svg)"
   ]
  },
  {
   "cell_type": "raw",
   "id": "34018691-bdd2-48a5-b6e3-4b7a38a7ef33",
   "metadata": {
    "slideshow": {
     "slide_type": "notes"
    },
    "tags": []
   },
   "source": [
    "A better approache is to have the publisher push"
   ]
  },
  {
   "cell_type": "code",
   "execution_count": 1,
   "id": "20d3fc2d-e9f1-4bbe-afb8-b874cefbf6af",
   "metadata": {
    "slideshow": {
     "slide_type": "slide"
    },
    "tags": []
   },
   "outputs": [],
   "source": [
    "class Publisher:  # The source\n",
    "    def __init__(self):\n",
    "        self.subscribers = []\n",
    "    def add_subscriber(self, subscriber):\n",
    "        self.subscribers.append(subscriber)\n",
    "    def publish(self, data):\n",
    "        for subscriber in self.subscribers:\n",
    "            subscriber.notify(data)\n",
    "        \n",
    "class Subscriber:  # The components that get updates from the source\n",
    "    def notify(self, data):\n",
    "        pass"
   ]
  },
  {
   "cell_type": "markdown",
   "id": "fd50db63-aae7-4962-997b-7537bd4f3dfa",
   "metadata": {},
   "source": [
    "### Observer Pattern \n",
    "*(a.k.a Event-Subscriber, Publisher-Subscriber Listener)*"
   ]
  },
  {
   "cell_type": "markdown",
   "id": "5d41e6ef-d820-4532-bcf9-4edc50f4fc58",
   "metadata": {},
   "source": [
    "## Resources\n",
    "\n",
    "* https://pyvideo.org/pyohio-2012/python-design-patterns-1.html\n",
    "* https://python-patterns.guide/\n",
    "* https://refactoring.guru\n",
    "* https://diagrams.mingrammer.com/"
   ]
  },
  {
   "cell_type": "code",
   "execution_count": null,
   "id": "86148a86-7a34-403a-b962-be198db2ba80",
   "metadata": {},
   "outputs": [],
   "source": []
  }
 ],
 "metadata": {
  "kernelspec": {
   "display_name": "Python 3 (ipykernel)",
   "language": "python",
   "name": "python3"
  },
  "language_info": {
   "codemirror_mode": {
    "name": "ipython",
    "version": 3
   },
   "file_extension": ".py",
   "mimetype": "text/x-python",
   "name": "python",
   "nbconvert_exporter": "python",
   "pygments_lexer": "ipython3",
   "version": "3.9.5"
  }
 },
 "nbformat": 4,
 "nbformat_minor": 5
}
