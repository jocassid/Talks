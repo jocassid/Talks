{
 "cells": [
  {
   "cell_type": "markdown",
   "id": "ef7c7297-099b-4bb7-a2f6-beb0e9a897b6",
   "metadata": {
    "slideshow": {
     "slide_type": "slide"
    },
    "tags": []
   },
   "source": [
    "# Design Patterns"
   ]
  },
  {
   "cell_type": "markdown",
   "id": "2bd1cb62-4556-4435-8679-96fb19b831e9",
   "metadata": {
    "slideshow": {
     "slide_type": "slide"
    },
    "tags": []
   },
   "source": [
    "## Let's start with an example\n",
    "\n",
    "**Problem:** We have multiple components that want to get updated information from a single source"
   ]
  },
  {
   "cell_type": "markdown",
   "id": "d72baef5-10dd-4de9-96ff-eac98e59ea5f",
   "metadata": {
    "slideshow": {
     "slide_type": "slide"
    },
    "tags": []
   },
   "source": [
    "![alt](polling.svg)"
   ]
  },
  {
   "cell_type": "raw",
   "id": "c228924e-1586-4d84-95b2-e52c98fdac32",
   "metadata": {
    "slideshow": {
     "slide_type": "notes"
    },
    "tags": []
   },
   "source": [
    "One approach is to have the subscribers periodically contact the publisher for updatess (this is known as polling the publisher).  If updates are frequent this is a reasonable approach.  If updates are infrequent, a lot of effort is waisted polling."
   ]
  },
  {
   "cell_type": "markdown",
   "id": "03463ca0-8099-45df-887d-f849cbca7df2",
   "metadata": {
    "slideshow": {
     "slide_type": "slide"
    },
    "tags": []
   },
   "source": [
    "![alt](push.svg)"
   ]
  },
  {
   "cell_type": "raw",
   "id": "34018691-bdd2-48a5-b6e3-4b7a38a7ef33",
   "metadata": {
    "slideshow": {
     "slide_type": "notes"
    },
    "tags": []
   },
   "source": [
    "A better approache is to have the publisher push updates to the subscribers.  This avoids any unnecessary requests to the publisher."
   ]
  },
  {
   "cell_type": "code",
   "execution_count": 2,
   "id": "20d3fc2d-e9f1-4bbe-afb8-b874cefbf6af",
   "metadata": {
    "slideshow": {
     "slide_type": "slide"
    },
    "tags": []
   },
   "outputs": [],
   "source": [
    "class Publisher:\n",
    "    def __init__(self):\n",
    "        self.subscribers = []\n",
    "    def add_subscriber(self, subscriber):\n",
    "        self.subscribers.append(subscriber)\n",
    "    def publish(self, data):\n",
    "        for subscriber in self.subscribers:\n",
    "            subscriber.notify(data)\n",
    "        \n",
    "class Subscriber:\n",
    "    def notify(self, data):\n",
    "        pass"
   ]
  },
  {
   "cell_type": "raw",
   "id": "b0f6a645-73e5-4bf0-92bd-af94ef53782d",
   "metadata": {},
   "source": [
    "This is what this approach looks like in code.  The Publisher maintains a list of subs"
   ]
  },
  {
   "cell_type": "markdown",
   "id": "fd50db63-aae7-4962-997b-7537bd4f3dfa",
   "metadata": {},
   "source": [
    "### Observer Pattern \n",
    "*(a.k.a Event-Subscriber, Publisher-Subscriber Listener)*"
   ]
  },
  {
   "cell_type": "markdown",
   "id": "5d41e6ef-d820-4532-bcf9-4edc50f4fc58",
   "metadata": {},
   "source": [
    "## Resources\n",
    "\n",
    "* https://pyvideo.org/pyohio-2012/python-design-patterns-1.html\n",
    "* https://python-patterns.guide/\n",
    "* https://refactoring.guru\n",
    "* https://diagrams.mingrammer.com/"
   ]
  },
  {
   "cell_type": "markdown",
   "id": "dff19d5f-c1d8-46c0-bd28-3d3cf158e8e8",
   "metadata": {},
   "source": [
    "## Notes from Brandon's presentation:\n",
    "\n",
    "https://www.youtube.com/watch?v=Er5K_nR5lDQ\n",
    "(start of video is repeated if you start 17 minutes in you can skip the repeated section)\n",
    "\n",
    "3 reasons that we don't talk about patterns much in Python: \n",
    " 1. patterns are baked into the Language and the standard library\n",
    " 1. provided by frameworks (i.e. Django & MVC)\n",
    " 1. we avoid large complex applications\n",
    " \n",
    "Book \"A Pattern Language\" Christopher Alexander (1977) on Architecture (buildings)\n",
    " \n",
    "Book: \"Design Patterns - Elements of Reusable Object-oriented Software\" Gamma, Helm, Johnson & Vlissides (The Gang of Four)\n",
    "\n",
    "not all patterns are Object-oriented patterns.  Using a_dict.get() instead of checking if key exists first.  Avoiding elses in code.\n",
    "\n",
    "OO Design patterns maxim: \"Program to an interface not an implementation\".  With duck-typing in Python, this is largely automatic.\n",
    "\n",
    "Pattern Types:\n",
    "1. Creational\n",
    "1. Structural\n",
    "1. Behavioral\n",
    "\n",
    "No separate syntax for creating instances of a class (no new keyword)\n",
    "\n",
    "having a new keywords means you can't do things like:\n",
    "1. return another class\n",
    "1. Always return the same instance.\n",
    "\n",
    "\"So most 'creational patterns' are contortions to avoid making brittle new calls in your C++/Java code\"\n",
    "\n",
    "Prototype pattern - Creating new objects based on existing objects.  The standard library's copy module takes care of this for us.\n",
    "\n",
    "Builder pattern - you feed the builder info on what you want built and it takes care of the gory details of linking the various instances together.  Brandon has an example of building an XML document. At about 40 minutes and\n",
    "\n",
    "Left off at 40 min in\n"
   ]
  },
  {
   "cell_type": "code",
   "execution_count": 7,
   "id": "a70ca575-7bdb-4c53-8203-7ec194d859ae",
   "metadata": {
    "tags": []
   },
   "outputs": [],
   "source": [
    "# Brandon's take on Python singleton\n",
    "# Don't use a module-level variable (i.e. my_module.foo) that doesn't leave \n",
    "# you any room if you need to do something in more than just a variable.\n",
    "class MyClass: pass\n",
    "\n",
    "_singleton = MyClass()\n",
    "def get_singleton():\n",
    "    return _singleton\n",
    "\n",
    "# \"Real\" singletons allow caller to specify a subclass the first time the \n",
    "# singleton is retrieved.  A gang of four singleton looks like this:\n",
    "\n",
    "_other_singleton = None\n",
    "def get_other_singleton(cls=MyClass):\n",
    "    global _other_singleton\n",
    "    if _other_singleton is None:\n",
    "        _other_singleton = cls()\n",
    "    return _other_singleton"
   ]
  },
  {
   "cell_type": "code",
   "execution_count": null,
   "id": "5dc621c8-20f2-4745-94c3-32fb0014287f",
   "metadata": {},
   "outputs": [],
   "source": []
  }
 ],
 "metadata": {
  "kernelspec": {
   "display_name": "Python 3 (ipykernel)",
   "language": "python",
   "name": "python3"
  },
  "language_info": {
   "codemirror_mode": {
    "name": "ipython",
    "version": 3
   },
   "file_extension": ".py",
   "mimetype": "text/x-python",
   "name": "python",
   "nbconvert_exporter": "python",
   "pygments_lexer": "ipython3",
   "version": "3.9.5"
  }
 },
 "nbformat": 4,
 "nbformat_minor": 5
}
