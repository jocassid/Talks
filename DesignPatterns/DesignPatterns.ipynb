{
 "cells": [
  {
   "cell_type": "markdown",
   "id": "ef7c7297-099b-4bb7-a2f6-beb0e9a897b6",
   "metadata": {
    "slideshow": {
     "slide_type": "slide"
    },
    "tags": []
   },
   "source": [
    "<p style=\"font-size: 2rem; margin-bottom: 0\">Design Patterns 1.0.1</p>\n",
    "\n",
    "(**Caution:** May contain Java)"
   ]
  },
  {
   "cell_type": "markdown",
   "id": "2bd1cb62-4556-4435-8679-96fb19b831e9",
   "metadata": {
    "slideshow": {
     "slide_type": "slide"
    },
    "tags": []
   },
   "source": [
    "# First an example\n",
    "*(Observer Pattern a.k.a publisher subscriber)*\n",
    "\n",
    "**Problem:** We have a `Gps` class that periodically reads position from a sensor.  A map and distance tracker need to be updated with position"
   ]
  },
  {
   "cell_type": "code",
   "execution_count": 1,
   "id": "b925ca0d-77fa-4d8a-82e2-7b3850287d73",
   "metadata": {
    "slideshow": {
     "slide_type": "slide"
    },
    "tags": []
   },
   "outputs": [],
   "source": [
    "class Position:\n",
    "    def __init__(self, lat, long):\n",
    "        self.lat = lat\n",
    "        self.long = long\n",
    "\n",
    "class Sensor:\n",
    "    def read():\n",
    "        # Or whatever the current coordinates are\n",
    "        return 39.97, -83.059\n",
    "\n",
    "class Gps:\n",
    "    def __init__(self):\n",
    "        self.sensor = Sensor()\n",
    "        self.position = Position(0, 0, 0)\n",
    "    def main_loop(self):\n",
    "        while True:\n",
    "            self.position = self.sensor.read()\n",
    "    def get_position(self):\n",
    "        return self.position"
   ]
  },
  {
   "cell_type": "raw",
   "id": "6b219a29-f944-457d-9c31-dcc025cce397",
   "metadata": {
    "slideshow": {
     "slide_type": "notes"
    },
    "tags": []
   },
   "source": [
    "Getting a fix might take the sensor a couple seconds"
   ]
  },
  {
   "cell_type": "code",
   "execution_count": 2,
   "id": "040bbde6-760a-45dd-bd7a-83aa5f5a06ca",
   "metadata": {
    "slideshow": {
     "slide_type": "slide"
    },
    "tags": []
   },
   "outputs": [],
   "source": [
    "# 1st Attempt: have Map and Distance periodically check for updates\n",
    "from time import sleep\n",
    "class Map:\n",
    "    \"\"\"A class which displays the map\"\"\"\n",
    "    def __init__(self, gps):\n",
    "        self.gps = gps\n",
    "    def main_loop(self):\n",
    "        while True:\n",
    "            position = Gps.get_position()\n",
    "            # update map\n",
    "            sleep(0.1)  # wait a 1/10th of a second\n",
    "            \n",
    "class Distance:\n",
    "    pass  # would be set up the same way"
   ]
  },
  {
   "cell_type": "raw",
   "id": "d7d651ce-434a-43dc-9c99-4bc1cb679ea5",
   "metadata": {
    "slideshow": {
     "slide_type": "notes"
    },
    "tags": []
   },
   "source": [
    "Graphically this looks like this"
   ]
  },
  {
   "cell_type": "markdown",
   "id": "902060d0-e36e-4b99-ac2b-ec81f8562457",
   "metadata": {
    "slideshow": {
     "slide_type": "slide"
    },
    "tags": []
   },
   "source": [
    "![Polling](polling.svg)"
   ]
  },
  {
   "cell_type": "raw",
   "id": "a2cab68d-d3e3-48e9-b050-be4fb3f9a559",
   "metadata": {
    "slideshow": {
     "slide_type": "notes"
    },
    "tags": []
   },
   "source": [
    "If the position in gps isn't updated frequently a lot of effort can be wasted polling gps for position updates.  Let's try structuring things so the data flow looks like this to avoid unnecessary polling:"
   ]
  },
  {
   "cell_type": "markdown",
   "id": "ef1cf840-a7d9-415f-a549-e3aad3457243",
   "metadata": {
    "slideshow": {
     "slide_type": "slide"
    },
    "tags": []
   },
   "source": [
    "![Push](push.svg)"
   ]
  },
  {
   "cell_type": "code",
   "execution_count": 3,
   "id": "b1523291-ef4c-49b1-97c5-7f601c401e66",
   "metadata": {
    "slideshow": {
     "slide_type": "slide"
    },
    "tags": []
   },
   "outputs": [],
   "source": [
    "# 2nd attempt have Gps read sensor and notify components\n",
    "class Gps:\n",
    "    def __init__(self):\n",
    "        self.sensor = Sensor()\n",
    "        self.map = Map()\n",
    "        self.distance = Map()\n",
    "    def main_loop(self):\n",
    "        while True:\n",
    "            position = self.sensor.read()\n",
    "            self.map.update(position)\n",
    "            self.distance.update(position)\n",
    "    \n",
    "class Map:\n",
    "    \"\"\"A class which displays the map\"\"\"\n",
    "    def update(self, position):\n",
    "        pass # update map\n",
    "            \n",
    "class Distance:\n",
    "    \"\"\"A class to track total distance\"\"\"\n",
    "    def update(self, position):\n",
    "        pass # add to total distance"
   ]
  },
  {
   "cell_type": "raw",
   "id": "bac2c971-9d72-46b2-a095-d2648692ff38",
   "metadata": {
    "slideshow": {
     "slide_type": "notes"
    },
    "tags": []
   },
   "source": [
    "We've avoided unnecessary polling, but every time we want to add a new component we need to modify the Gps class.  Also Gps needs to know about the Map and Distance classes"
   ]
  },
  {
   "cell_type": "code",
   "execution_count": 4,
   "id": "f8213ecb-c436-4c9a-a859-c57962c0bae4",
   "metadata": {
    "slideshow": {
     "slide_type": "slide"
    },
    "tags": []
   },
   "outputs": [],
   "source": [
    "# Now the client wants more features\n",
    "class Waypoints:\n",
    "    def update(self, position):\n",
    "        pass  # update waypoints\n",
    "    \n",
    "class Speed:\n",
    "    def update(self, position):\n",
    "        pass  # update current and average speed"
   ]
  },
  {
   "cell_type": "code",
   "execution_count": 5,
   "id": "6825973a-6a4b-49c8-8c83-2c37b5d50622",
   "metadata": {
    "slideshow": {
     "slide_type": "slide"
    },
    "tags": []
   },
   "outputs": [],
   "source": [
    "# 3rd and final version.  Read sensor and notfy generic observers\n",
    "class Gps:\n",
    "    \"\"\"In the parlance of the observer pattern Gps is \n",
    "    the observable and Map, Distance, Waypoints and \n",
    "    Speed are observers \"\"\"\n",
    "    def __init__(self):\n",
    "        self.sensor = Sensor()\n",
    "        self.observers = []\n",
    "    def main_loop():\n",
    "        while true:\n",
    "            position = self.sensor.read()\n",
    "            for observer in self.observers:\n",
    "                observer.update(position)\n",
    "                \n",
    "def start_gps(waypoints_enabled=False):\n",
    "    gps = Gps()\n",
    "    for observer in [Waypoints(), Distance(), Speed()]:\n",
    "        gps.observers.append(observer)\n",
    "    if waypoints_enabled:\n",
    "        gps.observers.append(Waypoints())"
   ]
  },
  {
   "cell_type": "raw",
   "id": "e01f152e-02dc-4cbc-8df0-afc0a0d936cb",
   "metadata": {
    "slideshow": {
     "slide_type": "notes"
    },
    "tags": []
   },
   "source": [
    "Written this way, we don't need to touch the GpsModule class when we want to add an observer component.  If there's a observer that is disabled , we don't add it to the GpsModule's list of observers."
   ]
  },
  {
   "cell_type": "markdown",
   "id": "f7c67615-a0c0-454c-b723-c7cd6b62cea8",
   "metadata": {
    "slideshow": {
     "slide_type": "slide"
    },
    "tags": []
   },
   "source": [
    "# Loose Coupling\n",
    "\n",
    "The principal that objects should be able to interact with minimal knowledge of each other"
   ]
  },
  {
   "cell_type": "raw",
   "id": "9cd42b2d-3be9-48b9-b246-ec8efe214b89",
   "metadata": {
    "slideshow": {
     "slide_type": "notes"
    },
    "tags": []
   },
   "source": [
    "The observer pattern is a way to achieve loose coupling.  In our example, all the Gps class needs to know is that the observer has an update method.  The observer really don't need to know anything about the Gps class.  The more objects need to know about each other, the more likely it is that changes will break something.\n",
    "\n",
    "So now we've seen an example ..."
   ]
  },
  {
   "cell_type": "markdown",
   "id": "402f3954-4d97-4a71-bc03-4cd6eda526c5",
   "metadata": {
    "slideshow": {
     "slide_type": "slide"
    },
    "tags": []
   },
   "source": [
    "# What are patterns anyway?\n",
    "\n",
    "1. Provide receipes for solving common problems\n",
    "1. Define a vocabulary for discussing software components (as a bonus this vocabulary helps in naming components)."
   ]
  },
  {
   "cell_type": "raw",
   "id": "df140288-52de-42fa-ba40-c20d2f7129a3",
   "metadata": {
    "slideshow": {
     "slide_type": "notes"
    },
    "tags": []
   },
   "source": [
    "there are 3 main categories for design patterns starting with"
   ]
  },
  {
   "cell_type": "markdown",
   "id": "ddf01241-5356-4d2c-a60a-b11fa4b77fa1",
   "metadata": {
    "slideshow": {
     "slide_type": "slide"
    },
    "tags": []
   },
   "source": [
    "# Creational Patterns\n",
    "\n",
    "For creating instances of classes"
   ]
  },
  {
   "cell_type": "markdown",
   "id": "92d2ce38-1704-45b0-bafb-7b26999e8512",
   "metadata": {
    "slideshow": {
     "slide_type": "slide"
    },
    "tags": []
   },
   "source": [
    "## Singleton Pattern\n",
    "\n",
    "Goal is to have 1 instance of a particular object in your application.  Common use case is to store the settings of your application.  Django's `settings` object is a good example:\n",
    "\n",
    "```python\n",
    "from django.conf import settings\n",
    "from_email = settings.DEFAULT_FROM_EMAIL\n",
    "```"
   ]
  },
  {
   "cell_type": "code",
   "execution_count": 6,
   "id": "3ff5136b-cb20-4347-8049-b3974cc08ea1",
   "metadata": {
    "slideshow": {
     "slide_type": "slide"
    },
    "tags": []
   },
   "outputs": [],
   "source": [
    "# in config.py module of some app\n",
    "\n",
    "class Settings:\n",
    "    def __init__(self):\n",
    "        pass  # load settings from ~/.myapprc\n",
    "    \n",
    "\n",
    "_settings = Settings()\n",
    "def get_settings():\n",
    "    return _settings"
   ]
  },
  {
   "cell_type": "raw",
   "id": "831eeab1-968c-4c08-9d4e-e1c8f0dd130d",
   "metadata": {
    "slideshow": {
     "slide_type": "notes"
    },
    "tags": []
   },
   "source": [
    "This is a basic way to implement a singleton.  Since Python isn't nearly as restrictive as languages like Java and C#, you can create another instance of Settings in your app.  However if you stick to calling the get_settings method you can achieve the effects of a true singleton."
   ]
  },
  {
   "cell_type": "markdown",
   "id": "b1ffd1e3-c17d-4950-9c9d-4aa7d0c49ae6",
   "metadata": {
    "slideshow": {
     "slide_type": "slide"
    },
    "tags": []
   },
   "source": [
    "## Builder Pattern\n",
    "\n",
    "Goal is to make it easer to set up complex object composed of other objects\n",
    "\n",
    "In this example we are building houses with a variable number of windows, doors, and rooms.  Additionaly houses can have garages, swimming pools, and gardens [2]"
   ]
  },
  {
   "cell_type": "code",
   "execution_count": 7,
   "id": "24201fad-e579-40c9-b6a0-28248439908d",
   "metadata": {
    "slideshow": {
     "slide_type": "slide"
    },
    "tags": []
   },
   "outputs": [],
   "source": [
    "# First some classes for the optional features\n",
    "class Garage:\n",
    "    pass\n",
    "\n",
    "class SwimmingPool:\n",
    "    pass\n",
    "\n",
    "class Garden:\n",
    "    pass"
   ]
  },
  {
   "cell_type": "code",
   "execution_count": 8,
   "id": "0bf72e32-e8c6-4455-877c-1e6fcdce0dd9",
   "metadata": {
    "slideshow": {
     "slide_type": "slide"
    },
    "tags": []
   },
   "outputs": [],
   "source": [
    "class House1:\n",
    "    def __init__(\n",
    "        self, windows: int, doors: int, rooms: int,\n",
    "        has_garage: bool = False,\n",
    "        has_swimming_pool: bool = False,\n",
    "        has_garden: bool = False,\n",
    "    ):\n",
    "        self.windows = windows\n",
    "        self.door = doors\n",
    "        self.rooms = rooms\n",
    "        self.garage = Garage() if has_garage else None\n",
    "        self.swimming_pool = SwimmingPool() if has_swimming_pool else None\n",
    "        self.garden = Garden if has_garden else None"
   ]
  },
  {
   "cell_type": "raw",
   "id": "63955c1f-eb9d-412b-b212-7d5740fd8596",
   "metadata": {
    "slideshow": {
     "slide_type": "notes"
    },
    "tags": []
   },
   "source": [
    "And here is our House class with it's __init__ method.  In Java and (other languages) the calls to create and object look like this:"
   ]
  },
  {
   "cell_type": "markdown",
   "id": "1e468663-e68c-4e97-8fd3-83dda9b61975",
   "metadata": {
    "slideshow": {
     "slide_type": "slide"
    },
    "tags": []
   },
   "source": [
    "Java Constructor (`__init__`) calls\n",
    "\n",
    "```java\n",
    "House1 house1= new House1(4, 4, 4, false, false, true)\n",
    "House1 hosue2 = new House1(4, 2, 4, true, true, true)\n",
    "```"
   ]
  },
  {
   "cell_type": "raw",
   "id": "85ef9f67-2a26-4d63-bda3-37aa6c5abfe0",
   "metadata": {
    "slideshow": {
     "slide_type": "notes"
    },
    "tags": []
   },
   "source": [
    "With a large number of arguments to the __init__ method, creating objects can become cumbersome.  The fact we can use keyword=value arguments to specify which default values we're overriding can mitgate this somewhat."
   ]
  },
  {
   "cell_type": "code",
   "execution_count": 9,
   "id": "78c9599b-05b4-483c-abab-6ed104ae1688",
   "metadata": {
    "slideshow": {
     "slide_type": "slide"
    },
    "tags": []
   },
   "outputs": [],
   "source": [
    "house1 = House1(4, 4, 4, has_garden=True)\n",
    "house2 = House1(4, 2, 4, has_swimming_pool=True)"
   ]
  },
  {
   "cell_type": "raw",
   "id": "a3e468c8-ec99-4839-8914-a1eb92b1fbf8",
   "metadata": {
    "slideshow": {
     "slide_type": "notes"
    },
    "tags": []
   },
   "source": [
    "If the __init__ method gets really complex you can create a HouseBuilder class which breaks the steps of building the objects into separated methods.  In this scenario, our House class would look like this"
   ]
  },
  {
   "cell_type": "code",
   "execution_count": 10,
   "id": "fbf7df9c-9a90-4395-9b3d-d3f71ae2287b",
   "metadata": {
    "slideshow": {
     "slide_type": "slide"
    },
    "tags": []
   },
   "outputs": [],
   "source": [
    "class House2:\n",
    "    def __init__(self):\n",
    "        self.windows = None\n",
    "        self.door = None\n",
    "        self.rooms = None\n",
    "        self.garage = None\n",
    "        self.swimming_pool = None\n",
    "        self.garden = None"
   ]
  },
  {
   "cell_type": "raw",
   "id": "f8fe4013-2614-460b-be4d-61cb45fb7e2b",
   "metadata": {
    "slideshow": {
     "slide_type": "notes"
    },
    "tags": []
   },
   "source": [
    "and our HouseBuilder looks like this."
   ]
  },
  {
   "cell_type": "code",
   "execution_count": 11,
   "id": "fa1edd94-4762-41f1-bf55-f9319188341a",
   "metadata": {
    "slideshow": {
     "slide_type": "slide"
    },
    "tags": []
   },
   "outputs": [],
   "source": [
    "class HouseBuilder:\n",
    "    # Defined HOUSE_CLASS so I don't need to re-define __init__ and reset in sub-classes\n",
    "    HOUSE_CLASS = House2\n",
    "    def __init__(self):\n",
    "        self.house = self.HOUSE_CLASS()\n",
    "    def reset(self):\n",
    "        self.house = self.HOUSE_CLASS()\n",
    "    def build_walls(self):\n",
    "        pass\n",
    "    def build_doors(self, doors):\n",
    "        pass\n",
    "    def build_windows(self, windows):\n",
    "        pass\n",
    "    def build_roof(self):\n",
    "        pass\n",
    "    def build_garage(self):\n",
    "        pass"
   ]
  },
  {
   "cell_type": "raw",
   "id": "62958816-f4e3-4c9a-8e29-03df462bda11",
   "metadata": {
    "slideshow": {
     "slide_type": "notes"
    },
    "tags": []
   },
   "source": [
    "We can, of course, create subclasses of HouseBuilder to build specific types of Houses."
   ]
  },
  {
   "cell_type": "code",
   "execution_count": 12,
   "id": "ee1ce466-3d37-463e-9ec5-1e21e4ff3d87",
   "metadata": {
    "slideshow": {
     "slide_type": "slide"
    },
    "tags": []
   },
   "outputs": [],
   "source": [
    "class FancyHouse(House2):\n",
    "    pass\n",
    "\n",
    "class FancyHouseBuilder(HouseBuilder):\n",
    "    HOUSE_CLASS = FancyHouse\n",
    "    def build_walls(self):\n",
    "        pass  # build fancy walls\n",
    "    def build_roof(self):\n",
    "        pass  # build fancy roof"
   ]
  },
  {
   "cell_type": "code",
   "execution_count": 13,
   "id": "d107c666-35de-4157-a2be-8f66f4dc388e",
   "metadata": {
    "slideshow": {
     "slide_type": "slide"
    },
    "tags": []
   },
   "outputs": [],
   "source": [
    "class SimpleHouse(House2):\n",
    "    pass\n",
    "\n",
    "class SimpleHouseBuilder(HouseBuilder):\n",
    "    HOUSE_CLASS = SimpleHouse\n",
    "    def build_garage(self):\n",
    "        pass  # builds a carport instead"
   ]
  },
  {
   "cell_type": "raw",
   "id": "089b84c5-b271-4114-9b84-3b7f75a298fd",
   "metadata": {
    "slideshow": {
     "slide_type": "notes"
    },
    "tags": []
   },
   "source": [
    "If you want to mask the details of the Builders in your client code you can do something like this."
   ]
  },
  {
   "cell_type": "code",
   "execution_count": 14,
   "id": "7199132c-e2f9-478d-a1cd-9ddc2e4fe2fd",
   "metadata": {
    "slideshow": {
     "slide_type": "slide"
    },
    "tags": []
   },
   "outputs": [],
   "source": [
    "class Director:\n",
    "    BUILDERS = {\n",
    "        House2: HouseBuilder(),\n",
    "        FancyHouse: FancyHouseBuilder(),\n",
    "        SimpleHouse: SimpleHouseBuilder(),\n",
    "    }\n",
    "    def make(self, house_class, doors, windows):\n",
    "        builder = self.BUILDERS[house_class]\n",
    "        builder.reset()\n",
    "        builder.build_walls()\n",
    "        builder.build_doors(doors)\n",
    "        builder.build_windows(windows)\n",
    "        builder.build_roof()\n",
    "        builder.build_garage()    "
   ]
  },
  {
   "cell_type": "code",
   "execution_count": 15,
   "id": "26a65f1c-4767-46ba-b788-e5771b353a37",
   "metadata": {
    "slideshow": {
     "slide_type": "slide"
    },
    "tags": []
   },
   "outputs": [],
   "source": [
    "# Example of a builder in the lxml library [3]\n",
    "from lxml.builder import E\n",
    "\n",
    "doc = E('body', \n",
    "        E('h1', 'The Title'), \n",
    "        E('p', 'Always write Python'))"
   ]
  },
  {
   "cell_type": "markdown",
   "id": "165a01f6-4143-4441-b470-569278c52730",
   "metadata": {
    "slideshow": {
     "slide_type": "slide"
    },
    "tags": []
   },
   "source": [
    "## Prototype Pattern\n",
    "\n",
    "Goal create new objects from existing objects.  In Java/C# you might create a Prototype `interface` stipulating that implementing classes should have a `clone()` method.  In Python we use `copy` and `deepcopy` from Pythons `copy` standard library module."
   ]
  },
  {
   "cell_type": "code",
   "execution_count": 16,
   "id": "79c6aad9-8dc8-4dc8-a318-09852bf6475c",
   "metadata": {
    "slideshow": {
     "slide_type": "slide"
    },
    "tags": []
   },
   "outputs": [],
   "source": [
    "class Point:\n",
    "    def __init__(self, x, y):\n",
    "        self.x = x\n",
    "        self.y = y\n",
    "        \n",
    "class Triangle:\n",
    "    def __init__(self, p1, p2, p3):\n",
    "        self.p1 = p1\n",
    "        self.p2 = p2\n",
    "        self.p3 = p3\n",
    "\n",
    "t1 = Triangle(Point(0,0), Point(3,0), Point(3,4))"
   ]
  },
  {
   "cell_type": "code",
   "execution_count": 17,
   "id": "17417b64-45b8-4b1d-a1b4-106648d91ab9",
   "metadata": {
    "slideshow": {
     "slide_type": "slide"
    },
    "tags": []
   },
   "outputs": [],
   "source": [
    "# This shows the memory address of the objects\n",
    "def show_ids(triangle):\n",
    "    print(f\"t  {id(triangle):,}\")\n",
    "    print(f\"p1 {id(triangle.p1):,}\")\n",
    "    print(f\"p2 {id(triangle.p2):,}\")\n",
    "    print(f\"p3 {id(triangle.p3):,}\")"
   ]
  },
  {
   "cell_type": "code",
   "execution_count": 18,
   "id": "9a5b56f8-41d3-4274-9f04-336fe1c523aa",
   "metadata": {
    "slideshow": {
     "slide_type": "slide"
    },
    "tags": []
   },
   "outputs": [
    {
     "name": "stdout",
     "output_type": "stream",
     "text": [
      "t  140,197,467,053,456\n",
      "p1 140,197,466,971,440\n",
      "p2 140,197,466,969,664\n",
      "p3 140,197,466,969,616\n",
      "\n",
      "t  140,197,467,052,736\n",
      "p1 140,197,466,971,440\n",
      "p2 140,197,466,969,664\n",
      "p3 140,197,466,969,616\n"
     ]
    }
   ],
   "source": [
    "from copy import copy\n",
    "show_ids(t1)\n",
    "t2 = copy(t1)\n",
    "print()\n",
    "show_ids(t2)"
   ]
  },
  {
   "cell_type": "code",
   "execution_count": 19,
   "id": "d7a81314-5afb-433f-a90e-5e86cea51914",
   "metadata": {
    "slideshow": {
     "slide_type": "slide"
    },
    "tags": []
   },
   "outputs": [
    {
     "name": "stdout",
     "output_type": "stream",
     "text": [
      "t  140,197,467,053,456\n",
      "p1 140,197,466,971,440\n",
      "p2 140,197,466,969,664\n",
      "p3 140,197,466,969,616\n",
      "\n",
      "t  140,197,467,053,888\n",
      "p1 140,197,467,052,112\n",
      "p2 140,197,467,050,768\n",
      "p3 140,197,467,052,064\n"
     ]
    }
   ],
   "source": [
    "from copy import deepcopy\n",
    "show_ids(t1)\n",
    "t3 = deepcopy(t1)\n",
    "print()\n",
    "show_ids(t3)"
   ]
  },
  {
   "cell_type": "markdown",
   "id": "3b2e7c13-9078-42b2-94fb-e4b3afbd3114",
   "metadata": {
    "slideshow": {
     "slide_type": "slide"
    },
    "tags": []
   },
   "source": [
    "# Structural Patterns\n",
    "\n",
    "Defines how application or parts of it are structured"
   ]
  },
  {
   "cell_type": "markdown",
   "id": "80114568-15df-4130-b11a-9b76fe27764c",
   "metadata": {
    "slideshow": {
     "slide_type": "slide"
    },
    "tags": []
   },
   "source": [
    "## Model View Controller (MVC)\n",
    "\n",
    "Goal: Divide responsibilities between components in an application.  This is commonly used to describe the structure of web applications.\n",
    "\n",
    "<table>\n",
    "  <thead>\n",
    "    <tr>\n",
    "      <th>Component</th>\n",
    "      <th>Responsibility</th>  \n",
    "    </tr>    \n",
    "  </thead>\n",
    "  <tbody>\n",
    "    <tr>\n",
    "      <td>Model</td>  \n",
    "      <td>Handles persisting data in the database</td>\n",
    "    </tr>\n",
    "    <tr>\n",
    "      <td>View</td>  \n",
    "      <td>Handles presentation of data to user (i.e.) generating HTML</td>\n",
    "    </tr>\n",
    "    <tr>\n",
    "      <td>Controller</td>  \n",
    "      <td>Encapsulates business logic.  Connects Model and View</td>\n",
    "    </tr>  \n",
    "  </tbody>      \n",
    "</table>\n",
    "\n",
    "![generic_mvc](generic_mvc.svg)"
   ]
  },
  {
   "cell_type": "markdown",
   "id": "a7c6eb5c-7abd-4178-aad2-f8f774810061",
   "metadata": {
    "slideshow": {
     "slide_type": "slide"
    },
    "tags": []
   },
   "source": [
    "## Django MVC\n",
    "\n",
    "<table>\n",
    "  <thead>\n",
    "    <tr>\n",
    "      <th>Component</th>\n",
    "      <th>Django Component</th>\n",
    "      <th>Description</th>  \n",
    "    </tr>    \n",
    "  </thead>\n",
    "  <tbody>\n",
    "    <tr>\n",
    "      <td>Model</td>  \n",
    "      <td>Models</td>\n",
    "      <td>A <code>Model</code> class is defined for each table in the database. Models provide create, update, and delete functionality</td>  \n",
    "    </tr>\n",
    "    <tr>\n",
    "      <td>View</td>  \n",
    "      <td>Templates</td>\n",
    "      <td>A Django template contains a mix of html and programming constructs (loops, branches, etc.) to generate HTML.</td>  \n",
    "    </tr>\n",
    "    <tr>\n",
    "      <td>Controller</td>  \n",
    "      <td>Views</td>\n",
    "      <td>Django views accepts an HTTP request and returns an HTTP reponse.  If you need to reuse business logic across views you may create a controller class or module.</td>  \n",
    "    </tr>  \n",
    "  </tbody>      \n",
    "</table>\n",
    "\n",
    "![django_mvc](django_mvc.svg)"
   ]
  },
  {
   "cell_type": "markdown",
   "id": "aa159d4c-2d76-4ebd-a8a6-5d1beee86417",
   "metadata": {
    "slideshow": {
     "slide_type": "slide"
    },
    "tags": []
   },
   "source": [
    "# Behavioral Patterns\n",
    "\n",
    "Define how classes behave and interact.  Observer pattern is a behavioral pattern."
   ]
  },
  {
   "cell_type": "markdown",
   "id": "88d8381a-99b0-4f52-a505-854735bd198f",
   "metadata": {
    "slideshow": {
     "slide_type": "slide"
    },
    "tags": []
   },
   "source": [
    "## Iterator Pattern\n",
    "\n",
    "Goal: To access all the items in a data structure (`list`, `set`, `dict`, tree, queue, graph, etc)\n",
    "\n",
    "This is baked into Python and the standard library"
   ]
  },
  {
   "cell_type": "markdown",
   "id": "3ba6797a-68df-44f5-8bd3-3d77a765b002",
   "metadata": {
    "slideshow": {
     "slide_type": "slide"
    },
    "tags": []
   },
   "source": [
    "In Python:\n",
    "\n",
    "<table>\n",
    "  <thead>\n",
    "    <tr>\n",
    "      <td>Object Type</td>\n",
    "      <td>Has Special Method</td>\n",
    "      <td>Corresponding built-in function</td>  \n",
    "    </tr>    \n",
    "  </thead>\n",
    "  <tbody>\n",
    "    <tr>\n",
    "      <td>iterable</td>  \n",
    "      <td><code>__iter__()</code></td>\n",
    "      <td><code>iter()</code></td>\n",
    "    </tr>\n",
    "    <tr>\n",
    "      <td>iterator</td>  \n",
    "      <td><code>__next__()</code></td>\n",
    "      <td><code>next()</code></td>\n",
    "    </tr>\n",
    "  </tbody>      \n",
    "</table>"
   ]
  },
  {
   "cell_type": "code",
   "execution_count": 20,
   "id": "3a0d892c-bafc-49a7-aafa-7d4768b2432c",
   "metadata": {
    "slideshow": {
     "slide_type": "slide"
    },
    "tags": []
   },
   "outputs": [
    {
     "name": "stdout",
     "output_type": "stream",
     "text": [
      "0\n",
      "1\n",
      "2\n"
     ]
    }
   ],
   "source": [
    "# Loop through a list (the hard way)\n",
    "a = [0, 1, 2]\n",
    "itr = iter(a)\n",
    "while True:\n",
    "    try:\n",
    "        value = next(itr)\n",
    "    except StopIteration:\n",
    "        break\n",
    "    else:\n",
    "        print(value)\n",
    "        \n",
    "# Python does this automagically when you do this:\n",
    "# for value in a:\n",
    "#     print(value)"
   ]
  },
  {
   "cell_type": "markdown",
   "id": "5d41e6ef-d820-4532-bcf9-4edc50f4fc58",
   "metadata": {
    "slideshow": {
     "slide_type": "slide"
    },
    "tags": []
   },
   "source": [
    "# Resources\n",
    "\n",
    "* Brandon Rhodes Design Patterns 1 (start of video is repeated, start at 17 min)\n",
    "  * https://pyvideo.org/pyohio-2012/python-design-patterns-1.html\n",
    "  * https://www.youtube.com/watch?v=Er5K_nR5lDQ\n",
    "* https://python-patterns.guide/\n",
    "* https://refactoring.guru\n",
    "* https://diagrams.mingrammer.com/\n",
    "* https://docs.oracle.com/javase/tutorial/java/javaOO/classes.html\n",
    "* https://en.wikipedia.org/wiki/Model%E2%80%93view%E2%80%93controller\n"
   ]
  },
  {
   "cell_type": "markdown",
   "id": "f1d48d16-89c8-4f31-84c1-339bbbc62867",
   "metadata": {
    "slideshow": {
     "slide_type": "slide"
    },
    "tags": []
   },
   "source": [
    "# Footnotes\n",
    "\n",
    "1. https://refactoring.guru/design-patterns/structural-patterns\n",
    "1. https://refactoring.guru/design-patterns/builder\n",
    "1. https://www.youtube.com/watch?v=Er5K_nR5lDQ [40 minutes]"
   ]
  }
 ],
 "metadata": {
  "kernelspec": {
   "display_name": "Python 3 (ipykernel)",
   "language": "python",
   "name": "python3"
  },
  "language_info": {
   "codemirror_mode": {
    "name": "ipython",
    "version": 3
   },
   "file_extension": ".py",
   "mimetype": "text/x-python",
   "name": "python",
   "nbconvert_exporter": "python",
   "pygments_lexer": "ipython3",
   "version": "3.9.5"
  }
 },
 "nbformat": 4,
 "nbformat_minor": 5
}
